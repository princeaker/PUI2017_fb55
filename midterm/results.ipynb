{
 "cells": [
  {
   "cell_type": "markdown",
   "metadata": {},
   "source": [
    "# PUI2017 results through midterm"
   ]
  },
  {
   "cell_type": "code",
   "execution_count": 2,
   "metadata": {
    "collapsed": false
   },
   "outputs": [
    {
     "name": "stdout",
     "output_type": "stream",
     "text": [
      "Populating the interactive namespace from numpy and matplotlib\n"
     ]
    }
   ],
   "source": [
    "import pandas as pd\n",
    "import pylab as pl\n",
    "%pylab inline"
   ]
  },
  {
   "cell_type": "code",
   "execution_count": 4,
   "metadata": {
    "collapsed": false
   },
   "outputs": [
    {
     "data": {
      "text/html": [
       "<div>\n",
       "<style>\n",
       "    .dataframe thead tr:only-child th {\n",
       "        text-align: right;\n",
       "    }\n",
       "\n",
       "    .dataframe thead th {\n",
       "        text-align: left;\n",
       "    }\n",
       "\n",
       "    .dataframe tbody tr th {\n",
       "        vertical-align: top;\n",
       "    }\n",
       "</style>\n",
       "<table border=\"1\" class=\"dataframe\">\n",
       "  <thead>\n",
       "    <tr style=\"text-align: right;\">\n",
       "      <th></th>\n",
       "      <th>midterm</th>\n",
       "      <th>HW</th>\n",
       "      <th>Quiz</th>\n",
       "      <th>total</th>\n",
       "    </tr>\n",
       "  </thead>\n",
       "  <tbody>\n",
       "    <tr>\n",
       "      <th>count</th>\n",
       "      <td>32.000000</td>\n",
       "      <td>32.000000</td>\n",
       "      <td>32.000000</td>\n",
       "      <td>32.000000</td>\n",
       "    </tr>\n",
       "    <tr>\n",
       "      <th>mean</th>\n",
       "      <td>60.593750</td>\n",
       "      <td>92.042187</td>\n",
       "      <td>64.843750</td>\n",
       "      <td>75.274858</td>\n",
       "    </tr>\n",
       "    <tr>\n",
       "      <th>std</th>\n",
       "      <td>22.830172</td>\n",
       "      <td>6.625475</td>\n",
       "      <td>16.709538</td>\n",
       "      <td>12.951040</td>\n",
       "    </tr>\n",
       "    <tr>\n",
       "      <th>min</th>\n",
       "      <td>12.000000</td>\n",
       "      <td>70.700000</td>\n",
       "      <td>31.250000</td>\n",
       "      <td>52.250000</td>\n",
       "    </tr>\n",
       "    <tr>\n",
       "      <th>25%</th>\n",
       "      <td>40.000000</td>\n",
       "      <td>88.309375</td>\n",
       "      <td>54.166667</td>\n",
       "      <td>67.043087</td>\n",
       "    </tr>\n",
       "    <tr>\n",
       "      <th>50%</th>\n",
       "      <td>59.000000</td>\n",
       "      <td>91.100000</td>\n",
       "      <td>65.208333</td>\n",
       "      <td>73.906250</td>\n",
       "    </tr>\n",
       "    <tr>\n",
       "      <th>75%</th>\n",
       "      <td>75.000000</td>\n",
       "      <td>98.109375</td>\n",
       "      <td>78.125000</td>\n",
       "      <td>84.611269</td>\n",
       "    </tr>\n",
       "    <tr>\n",
       "      <th>max</th>\n",
       "      <td>100.000000</td>\n",
       "      <td>100.000000</td>\n",
       "      <td>89.583333</td>\n",
       "      <td>98.390152</td>\n",
       "    </tr>\n",
       "  </tbody>\n",
       "</table>\n",
       "</div>"
      ],
      "text/plain": [
       "          midterm          HW       Quiz      total\n",
       "count   32.000000   32.000000  32.000000  32.000000\n",
       "mean    60.593750   92.042187  64.843750  75.274858\n",
       "std     22.830172    6.625475  16.709538  12.951040\n",
       "min     12.000000   70.700000  31.250000  52.250000\n",
       "25%     40.000000   88.309375  54.166667  67.043087\n",
       "50%     59.000000   91.100000  65.208333  73.906250\n",
       "75%     75.000000   98.109375  78.125000  84.611269\n",
       "max    100.000000  100.000000  89.583333  98.390152"
      ]
     },
     "execution_count": 4,
     "metadata": {},
     "output_type": "execute_result"
    }
   ],
   "source": [
    "morning = pd.read_csv(\"PUI2017_morning.csv\").iloc[:,3:7].rename(columns={\"up2midterm\":\n",
    "                                                                        \"total\"})\n",
    "\n",
    "morning.describe()"
   ]
  },
  {
   "cell_type": "code",
   "execution_count": 31,
   "metadata": {
    "collapsed": false
   },
   "outputs": [
    {
     "data": {
      "image/png": "[encoded data removed]",
      "text/plain": [
       "<matplotlib.figure.Figure at 0x112308a20>"
      ]
     },
     "metadata": {},
     "output_type": "display_data"
    }
   ],
   "source": [
    "fig = pl.figure(figsize=(10,6))\n",
    "\n",
    "for i,c in enumerate(morning.columns):\n",
    "    ax = fig.add_subplot(2,2,i+1)\n",
    "    morning[c].plot(kind='hist', bins=np.arange(-5,110,10))\n",
    "    #pl.hist(morning[c], bins=range(0,110,5))\n",
    "    pl.legend()\n",
    "    ax.set_xlim(0,110)\n",
    "fig.savefig(\"morningCurves.png\")"
   ]
  },
  {
   "cell_type": "markdown",
   "metadata": {},
   "source": [
    "##### Morning Session: Results include up to quiz 4 and HW 5."
   ]
  },
  {
   "cell_type": "code",
   "execution_count": 5,
   "metadata": {
    "collapsed": false
   },
   "outputs": [
    {
     "data": {
      "text/html": [
       "<div>\n",
       "<style>\n",
       "    .dataframe thead tr:only-child th {\n",
       "        text-align: right;\n",
       "    }\n",
       "\n",
       "    .dataframe thead th {\n",
       "        text-align: left;\n",
       "    }\n",
       "\n",
       "    .dataframe tbody tr th {\n",
       "        vertical-align: top;\n",
       "    }\n",
       "</style>\n",
       "<table border=\"1\" class=\"dataframe\">\n",
       "  <thead>\n",
       "    <tr style=\"text-align: right;\">\n",
       "      <th></th>\n",
       "      <th>midterm</th>\n",
       "      <th>HW</th>\n",
       "      <th>Quiz</th>\n",
       "      <th>total</th>\n",
       "    </tr>\n",
       "  </thead>\n",
       "  <tbody>\n",
       "    <tr>\n",
       "      <th>count</th>\n",
       "      <td>32.000000</td>\n",
       "      <td>32.000000</td>\n",
       "      <td>32.000000</td>\n",
       "      <td>32.000000</td>\n",
       "    </tr>\n",
       "    <tr>\n",
       "      <th>mean</th>\n",
       "      <td>48.937500</td>\n",
       "      <td>84.494010</td>\n",
       "      <td>72.513021</td>\n",
       "      <td>67.242779</td>\n",
       "    </tr>\n",
       "    <tr>\n",
       "      <th>std</th>\n",
       "      <td>25.876802</td>\n",
       "      <td>19.878625</td>\n",
       "      <td>17.196056</td>\n",
       "      <td>18.522864</td>\n",
       "    </tr>\n",
       "    <tr>\n",
       "      <th>min</th>\n",
       "      <td>0.000000</td>\n",
       "      <td>26.733333</td>\n",
       "      <td>37.500000</td>\n",
       "      <td>23.871212</td>\n",
       "    </tr>\n",
       "    <tr>\n",
       "      <th>25%</th>\n",
       "      <td>34.750000</td>\n",
       "      <td>79.633333</td>\n",
       "      <td>61.458333</td>\n",
       "      <td>58.369318</td>\n",
       "    </tr>\n",
       "    <tr>\n",
       "      <th>50%</th>\n",
       "      <td>48.000000</td>\n",
       "      <td>92.200000</td>\n",
       "      <td>70.833333</td>\n",
       "      <td>69.166667</td>\n",
       "    </tr>\n",
       "    <tr>\n",
       "      <th>75%</th>\n",
       "      <td>70.500000</td>\n",
       "      <td>96.743750</td>\n",
       "      <td>84.375000</td>\n",
       "      <td>83.732008</td>\n",
       "    </tr>\n",
       "    <tr>\n",
       "      <th>max</th>\n",
       "      <td>100.000000</td>\n",
       "      <td>100.000000</td>\n",
       "      <td>100.000000</td>\n",
       "      <td>93.848485</td>\n",
       "    </tr>\n",
       "  </tbody>\n",
       "</table>\n",
       "</div>"
      ],
      "text/plain": [
       "          midterm          HW        Quiz      total\n",
       "count   32.000000   32.000000   32.000000  32.000000\n",
       "mean    48.937500   84.494010   72.513021  67.242779\n",
       "std     25.876802   19.878625   17.196056  18.522864\n",
       "min      0.000000   26.733333   37.500000  23.871212\n",
       "25%     34.750000   79.633333   61.458333  58.369318\n",
       "50%     48.000000   92.200000   70.833333  69.166667\n",
       "75%     70.500000   96.743750   84.375000  83.732008\n",
       "max    100.000000  100.000000  100.000000  93.848485"
      ]
     },
     "execution_count": 5,
     "metadata": {},
     "output_type": "execute_result"
    }
   ],
   "source": [
    "evening = pd.read_csv(\"PUI2017_evening.csv\").iloc[:,3:7].rename(columns={\"up2midterm\":\n",
    "                                                                        \"total\"})\n",
    "evening.describe()"
   ]
  },
  {
   "cell_type": "code",
   "execution_count": 32,
   "metadata": {
    "collapsed": false
   },
   "outputs": [
    {
     "data": {
      "image/png": "[encoded data removed]",
      "text/plain": [
       "<matplotlib.figure.Figure at 0x1125bbf98>"
      ]
     },
     "metadata": {},
     "output_type": "display_data"
    }
   ],
   "source": [
    "fig = pl.figure(figsize=(10,6))\n",
    "\n",
    "for i,c in enumerate(evening.columns):\n",
    "    ax = fig.add_subplot(2,2,i+1)\n",
    "    evening[c].plot(kind='hist', bins=np.arange(-5,110,10))\n",
    "    pl.legend()\n",
    "    ax.set_xlim(0,100)\n",
    "fig.savefig(\"eveningCurves.png\")"
   ]
  },
  {
   "cell_type": "markdown",
   "metadata": {},
   "source": [
    "##### Evening Session: Results include up to quiz 3 and HW 5."
   ]
  },
  {
   "cell_type": "code",
   "execution_count": 6,
   "metadata": {
    "collapsed": false
   },
   "outputs": [
    {
     "data": {
      "text/html": [
       "<div>\n",
       "<style>\n",
       "    .dataframe thead tr:only-child th {\n",
       "        text-align: right;\n",
       "    }\n",
       "\n",
       "    .dataframe thead th {\n",
       "        text-align: left;\n",
       "    }\n",
       "\n",
       "    .dataframe tbody tr th {\n",
       "        vertical-align: top;\n",
       "    }\n",
       "</style>\n",
       "<table border=\"1\" class=\"dataframe\">\n",
       "  <thead>\n",
       "    <tr style=\"text-align: right;\">\n",
       "      <th></th>\n",
       "      <th>midterm</th>\n",
       "      <th>HW</th>\n",
       "      <th>Quiz</th>\n",
       "      <th>total</th>\n",
       "    </tr>\n",
       "  </thead>\n",
       "  <tbody>\n",
       "    <tr>\n",
       "      <th>count</th>\n",
       "      <td>64.000000</td>\n",
       "      <td>64.000000</td>\n",
       "      <td>64.000000</td>\n",
       "      <td>64.000000</td>\n",
       "    </tr>\n",
       "    <tr>\n",
       "      <th>mean</th>\n",
       "      <td>54.765625</td>\n",
       "      <td>88.268099</td>\n",
       "      <td>68.678385</td>\n",
       "      <td>71.258819</td>\n",
       "    </tr>\n",
       "    <tr>\n",
       "      <th>std</th>\n",
       "      <td>24.909195</td>\n",
       "      <td>15.182674</td>\n",
       "      <td>17.257797</td>\n",
       "      <td>16.362866</td>\n",
       "    </tr>\n",
       "    <tr>\n",
       "      <th>min</th>\n",
       "      <td>0.000000</td>\n",
       "      <td>26.733333</td>\n",
       "      <td>31.250000</td>\n",
       "      <td>23.871212</td>\n",
       "    </tr>\n",
       "    <tr>\n",
       "      <th>25%</th>\n",
       "      <td>38.000000</td>\n",
       "      <td>87.950000</td>\n",
       "      <td>57.812500</td>\n",
       "      <td>62.388258</td>\n",
       "    </tr>\n",
       "    <tr>\n",
       "      <th>50%</th>\n",
       "      <td>54.500000</td>\n",
       "      <td>92.079167</td>\n",
       "      <td>69.791667</td>\n",
       "      <td>71.506629</td>\n",
       "    </tr>\n",
       "    <tr>\n",
       "      <th>75%</th>\n",
       "      <td>73.500000</td>\n",
       "      <td>97.825000</td>\n",
       "      <td>83.333333</td>\n",
       "      <td>84.091856</td>\n",
       "    </tr>\n",
       "    <tr>\n",
       "      <th>max</th>\n",
       "      <td>100.000000</td>\n",
       "      <td>100.000000</td>\n",
       "      <td>100.000000</td>\n",
       "      <td>98.390152</td>\n",
       "    </tr>\n",
       "  </tbody>\n",
       "</table>\n",
       "</div>"
      ],
      "text/plain": [
       "          midterm          HW        Quiz      total\n",
       "count   64.000000   64.000000   64.000000  64.000000\n",
       "mean    54.765625   88.268099   68.678385  71.258819\n",
       "std     24.909195   15.182674   17.257797  16.362866\n",
       "min      0.000000   26.733333   31.250000  23.871212\n",
       "25%     38.000000   87.950000   57.812500  62.388258\n",
       "50%     54.500000   92.079167   69.791667  71.506629\n",
       "75%     73.500000   97.825000   83.333333  84.091856\n",
       "max    100.000000  100.000000  100.000000  98.390152"
      ]
     },
     "execution_count": 6,
     "metadata": {},
     "output_type": "execute_result"
    }
   ],
   "source": [
    "allsessions = pd.concat([morning, evening])\n",
    "allsessions.describe()"
   ]
  },
  {
   "cell_type": "code",
   "execution_count": 33,
   "metadata": {
    "collapsed": false
   },
   "outputs": [
    {
     "data": {
      "image/png": "[encoded data removed]",
      "text/plain": [
       "<matplotlib.figure.Figure at 0x112598dd8>"
      ]
     },
     "metadata": {},
     "output_type": "display_data"
    }
   ],
   "source": [
    "fig = pl.figure(figsize=(10,6))\n",
    "\n",
    "for i,c in enumerate(allsessions.columns):\n",
    "    ax = fig.add_subplot(2,2,i+1)\n",
    "    allsessions[c].plot(kind='hist', bins=np.arange(-5,110,10))\n",
    "    pl.legend()\n",
    "    ax.set_xlim(0,100)\n",
    "fig.savefig(\"allCurves.png\")"
   ]
  },
  {
   "cell_type": "markdown",
   "metadata": {},
   "source": [
    "##### Both Sessions: Results include up to quiz 4 and HW 5."
   ]
  },
  {
   "cell_type": "code",
   "execution_count": null,
   "metadata": {
    "collapsed": true
   },
   "outputs": [],
   "source": []
  }
 ],
 "metadata": {
  "anaconda-cloud": {},
  "celltoolbar": "Raw Cell Format",
  "kernelspec": {
   "display_name": "Python [conda env:p3env]",
   "language": "python",
   "name": "conda-env-p3env-py"
  },
  "language_info": {
   "codemirror_mode": {
    "name": "ipython",
    "version": 3
   },
   "file_extension": ".py",
   "mimetype": "text/x-python",
   "name": "python",
   "nbconvert_exporter": "python",
   "pygments_lexer": "ipython3",
   "version": "3.6.1"
  }
 },
 "nbformat": 4,
 "nbformat_minor": 1
}
